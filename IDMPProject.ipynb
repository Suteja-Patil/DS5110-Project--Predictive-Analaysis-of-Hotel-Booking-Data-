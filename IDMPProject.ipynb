{
  "cells": [
    {
      "cell_type": "markdown",
      "metadata": {
        "id": "8uPG7UydWJYZ"
      },
      "source": [
        "# Predictive Analysis of Hotel Booking Data"
      ]
    },
    {
      "cell_type": "markdown",
      "metadata": {
        "id": "AyjGSNDjdmyB"
      },
      "source": [
        "## Data Loading"
      ]
    },
    {
      "cell_type": "code",
      "execution_count": null,
      "metadata": {
        "colab": {
          "background_save": true,
          "base_uri": "https://localhost:8080/"
        },
        "id": "M59Bj5aQqwG_",
        "outputId": "3d144413-75ee-4b76-8595-de4c62493f14"
      },
      "outputs": [
        {
          "name": "stdout",
          "output_type": "stream",
          "text": [
            "Found existing installation: statsmodels 0.10.2\n",
            "Uninstalling statsmodels-0.10.2:\n",
            "  Would remove:\n",
            "    /usr/local/lib/python3.7/dist-packages/statsmodels-0.10.2.dist-info/*\n",
            "    /usr/local/lib/python3.7/dist-packages/statsmodels/*\n",
            "Proceed (y/n)? \u001b[31mERROR: Operation cancelled by user\u001b[0m\n",
            "Traceback (most recent call last):\n",
            "  File \"/usr/local/lib/python3.7/dist-packages/pip/_internal/cli/base_command.py\", line 180, in _main\n",
            "    status = self.run(options, args)\n",
            "  File \"/usr/local/lib/python3.7/dist-packages/pip/_internal/commands/uninstall.py\", line 86, in run\n",
            "    auto_confirm=options.yes, verbose=self.verbosity > 0,\n",
            "  File \"/usr/local/lib/python3.7/dist-packages/pip/_internal/req/req_install.py\", line 658, in uninstall\n",
            "    uninstalled_pathset.remove(auto_confirm, verbose)\n",
            "  File \"/usr/local/lib/python3.7/dist-packages/pip/_internal/req/req_uninstall.py\", line 380, in remove\n",
            "    if auto_confirm or self._allowed_to_proceed(verbose):\n",
            "  File \"/usr/local/lib/python3.7/dist-packages/pip/_internal/req/req_uninstall.py\", line 423, in _allowed_to_proceed\n",
            "    return ask('Proceed (y/n)? ', ('y', 'n')) == 'y'\n",
            "  File \"/usr/local/lib/python3.7/dist-packages/pip/_internal/utils/misc.py\", line 203, in ask\n",
            "    response = input(message)\n",
            "KeyboardInterrupt\n",
            "\n",
            "During handling of the above exception, another exception occurred:\n",
            "\n",
            "Traceback (most recent call last):\n",
            "  File \"/usr/local/bin/pip3\", line 8, in <module>\n",
            "    sys.exit(main())\n",
            "  File \"/usr/local/lib/python3.7/dist-packages/pip/_internal/cli/main.py\", line 71, in main\n",
            "    return command.main(cmd_args)\n",
            "  File \"/usr/local/lib/python3.7/dist-packages/pip/_internal/cli/base_command.py\", line 104, in main\n",
            "    return self._main(args)\n",
            "  File \"/usr/local/lib/python3.7/dist-packages/pip/_internal/cli/base_command.py\", line 212, in _main\n",
            "    logger.critical(\"Operation cancelled by user\")\n",
            "  File \"/usr/lib/python3.7/logging/__init__.py\", line 1425, in critical\n",
            "    self._log(CRITICAL, msg, args, **kwargs)\n",
            "  File \"/usr/lib/python3.7/logging/__init__.py\", line 1514, in _log\n",
            "    self.handle(record)\n",
            "  File \"/usr/lib/python3.7/logging/__init__.py\", line 1524, in handle\n",
            "    self.callHandlers(record)\n",
            "  File \"/usr/lib/python3.7/logging/__init__.py\", line 1586, in callHandlers\n",
            "    hdlr.handle(record)\n",
            "  File \"/usr/lib/python3.7/logging/__init__.py\", line 894, in handle\n",
            "    self.emit(record)\n",
            "  File \"/usr/lib/python3.7/logging/handlers.py\", line 71, in emit\n",
            "    logging.FileHandler.emit(self, record)\n",
            "  File \"/usr/lib/python3.7/logging/__init__.py\", line 1127, in emit\n",
            "    StreamHandler.emit(self, record)\n",
            "  File \"/usr/lib/python3.7/logging/__init__.py\", line 1029, in emit\n",
            "    self.flush()\n",
            "  File \"/usr/lib/python3.7/logging/__init__.py\", line 1009, in flush\n",
            "    self.stream.flush()\n",
            "KeyboardInterrupt\n"
          ]
        }
      ],
      "source": [
        "!pip uninstall statsmodels"
      ]
    },
    {
      "cell_type": "code",
      "execution_count": null,
      "metadata": {
        "colab": {
          "background_save": true
        },
        "id": "OjioXWNUq3jS",
        "outputId": "93d5e846-c766-4602-cd34-0c82449438bd"
      },
      "outputs": [
        {
          "name": "stdout",
          "output_type": "stream",
          "text": [
            "Requirement already satisfied: numpy in /usr/local/lib/python3.7/dist-packages (1.19.5)\n",
            "Requirement already satisfied: scipy in /usr/local/lib/python3.7/dist-packages (1.4.1)\n",
            "Requirement already satisfied: patsy in /usr/local/lib/python3.7/dist-packages (0.5.2)\n",
            "Requirement already satisfied: pandas in /usr/local/lib/python3.7/dist-packages (1.1.5)\n",
            "Requirement already satisfied: six in /usr/local/lib/python3.7/dist-packages (from patsy) (1.15.0)\n",
            "Requirement already satisfied: python-dateutil>=2.7.3 in /usr/local/lib/python3.7/dist-packages (from pandas) (2.8.2)\n",
            "Requirement already satisfied: pytz>=2017.2 in /usr/local/lib/python3.7/dist-packages (from pandas) (2018.9)\n"
          ]
        }
      ],
      "source": [
        "!pip install numpy scipy patsy pandas"
      ]
    },
    {
      "cell_type": "code",
      "execution_count": null,
      "metadata": {
        "colab": {
          "background_save": true
        },
        "id": "iHRaquy-q-T_",
        "outputId": "efc6e9fa-c8f3-4406-a4fa-fb95f9d1e94e"
      },
      "outputs": [
        {
          "name": "stdout",
          "output_type": "stream",
          "text": [
            "Requirement already satisfied: statsmodels in /usr/local/lib/python3.7/dist-packages (0.10.2)\n",
            "Requirement already satisfied: numpy>=1.11 in /usr/local/lib/python3.7/dist-packages (from statsmodels) (1.19.5)\n",
            "Requirement already satisfied: scipy>=0.18 in /usr/local/lib/python3.7/dist-packages (from statsmodels) (1.4.1)\n",
            "Requirement already satisfied: pandas>=0.19 in /usr/local/lib/python3.7/dist-packages (from statsmodels) (1.1.5)\n",
            "Requirement already satisfied: patsy>=0.4.0 in /usr/local/lib/python3.7/dist-packages (from statsmodels) (0.5.2)\n",
            "Requirement already satisfied: python-dateutil>=2.7.3 in /usr/local/lib/python3.7/dist-packages (from pandas>=0.19->statsmodels) (2.8.2)\n",
            "Requirement already satisfied: pytz>=2017.2 in /usr/local/lib/python3.7/dist-packages (from pandas>=0.19->statsmodels) (2018.9)\n",
            "Requirement already satisfied: six in /usr/local/lib/python3.7/dist-packages (from patsy>=0.4.0->statsmodels) (1.15.0)\n"
          ]
        }
      ],
      "source": [
        "!pip install statsmodels"
      ]
    },
    {
      "cell_type": "code",
      "execution_count": null,
      "metadata": {
        "id": "CgfhkW00WEW4"
      },
      "outputs": [],
      "source": [
        "!pip install pmdarima\n",
        "import numpy as np\n",
        "import pandas as pd\n",
        "import seaborn as sn\n",
        "from typing import List\n",
        "from matplotlib import pyplot as plt\n",
        "import plotly.express as px\n",
        "import plotly.graph_objs as go\n",
        "import datetime\n",
        "import seaborn as sns\n",
        "from statsmodels.tsa.stattools import adfuller\n",
        "from statsmodels.tsa.arima.model import ARIMA\n",
        "from sklearn.metrics import mean_squared_error\n",
        "from pmdarima import auto_arima\n",
        "from sklearn.model_selection import train_test_split"
      ]
    },
    {
      "cell_type": "code",
      "execution_count": null,
      "metadata": {
        "id": "MdTcz40QDmGl"
      },
      "outputs": [],
      "source": [
        "from sklearn.metrics import accuracy_score,precision_score,recall_score,log_loss,f1_score,roc_auc_score\n",
        "from sklearn.model_selection import GridSearchCV\n",
        "from sklearn.ensemble import GradientBoostingClassifier,RandomForestClassifier\n",
        "from xgboost import XGBClassifier\n",
        "from sklearn.metrics import classification_report\n",
        "from sklearn.linear_model import LogisticRegression\n",
        "from sklearn.svm import SVC\n",
        "from sklearn.tree import DecisionTreeClassifier\n",
        "from sklearn.ensemble import RandomForestClassifier\n",
        "from lightgbm import LGBMClassifier"
      ]
    },
    {
      "cell_type": "code",
      "execution_count": null,
      "metadata": {
        "id": "coSNog67fusw"
      },
      "outputs": [],
      "source": [
        "pwd"
      ]
    },
    {
      "cell_type": "code",
      "execution_count": null,
      "metadata": {
        "id": "KTGhSghApVhL"
      },
      "outputs": [],
      "source": [
        "data=pd.read_csv(\"hotel_bookings.csv\")"
      ]
    },
    {
      "cell_type": "markdown",
      "metadata": {
        "id": "INL6gZKSeNz0"
      },
      "source": [
        "## EDA"
      ]
    },
    {
      "cell_type": "code",
      "execution_count": null,
      "metadata": {
        "id": "pYxc5bczWEbo"
      },
      "outputs": [],
      "source": [
        "data.head()"
      ]
    },
    {
      "cell_type": "code",
      "execution_count": null,
      "metadata": {
        "id": "k56JwIOsApgm"
      },
      "outputs": [],
      "source": [
        "data.country.unique()"
      ]
    },
    {
      "cell_type": "code",
      "execution_count": null,
      "metadata": {
        "id": "jUrQvvWjA5I_"
      },
      "outputs": [],
      "source": [
        "data.country.value_counts()"
      ]
    },
    {
      "cell_type": "code",
      "execution_count": null,
      "metadata": {
        "id": "nnkBSX_-pyDH"
      },
      "outputs": [],
      "source": [
        "data.info()\n"
      ]
    },
    {
      "cell_type": "code",
      "execution_count": null,
      "metadata": {
        "id": "e_s7oUOap1rX"
      },
      "outputs": [],
      "source": [
        "def missing_value_counter(df:pd.DataFrame, cols:List[str]) -> pd.DataFrame:\n",
        "    \"\"\"\n",
        "    Count missing values in specified columns.\n",
        "    @param df: dataframe\n",
        "    @param cols: columns to be calculated\n",
        "    return: summary information\n",
        "    \"\"\"\n",
        "    res = pd.DataFrame(cols, columns=['Feature'])\n",
        "    na_cnts = [sum(df[col].isna()) for col in cols]\n",
        "    res['NA Count'] = na_cnts\n",
        "    res['NA Rate'] = res['NA Count'] / df.shape[0]\n",
        "    res = res[res['NA Count'] != 0]\n",
        "    res = res.sort_values(by='NA Count', ascending=False).reset_index(drop=True)\n",
        "    return res"
      ]
    },
    {
      "cell_type": "code",
      "execution_count": null,
      "metadata": {
        "id": "_TwnmOO-p2Cb"
      },
      "outputs": [],
      "source": [
        "def value_counter(df:pd.DataFrame, cols:List[str], val:float) -> pd.DataFrame:\n",
        "    \"\"\"\n",
        "    Count specified values in specified columns.\n",
        "    @param df: dataframe\n",
        "    @param cols: columns to be calculated\n",
        "    return: summary information\n",
        "    \"\"\"\n",
        "    res = pd.DataFrame(cols, columns=['Feature'])\n",
        "    na_cnts = [sum(df[col] == val) for col in cols]\n",
        "    res['Value Count'] = na_cnts\n",
        "    res['Rate'] = res['Value Count'] / df.shape[0]\n",
        "    res = res[res['Value Count'] != 0]\n",
        "    res = res.sort_values(by='Value Count', ascending=False).reset_index(drop=True)\n",
        "    return res"
      ]
    },
    {
      "cell_type": "code",
      "execution_count": null,
      "metadata": {
        "id": "1nvS0B1rp_Qs"
      },
      "outputs": [],
      "source": [
        "missing_value_counter(data, data.columns)"
      ]
    },
    {
      "cell_type": "code",
      "execution_count": null,
      "metadata": {
        "id": "6j6gIJVBqrad"
      },
      "outputs": [],
      "source": [
        "value_counter(data, data.columns, 0)"
      ]
    },
    {
      "cell_type": "code",
      "execution_count": null,
      "metadata": {
        "id": "zCxhOyARq3VP"
      },
      "outputs": [],
      "source": [
        "# data=data.drop(['company','agent'],axis=1)\n",
        "data['country'].dropna(inplace=True)\n"
      ]
    },
    {
      "cell_type": "code",
      "execution_count": null,
      "metadata": {
        "id": "_fLbVR0TvJIc"
      },
      "outputs": [],
      "source": [
        "data.fillna(0,inplace=True)"
      ]
    },
    {
      "cell_type": "code",
      "execution_count": null,
      "metadata": {
        "id": "y4eO3KK33TAy"
      },
      "outputs": [],
      "source": [
        "datetime_object = data['arrival_date_month'].str[0:3]\n",
        "month_number = np.zeros(len(datetime_object))\n",
        "\n",
        "# Creating a new column based on numerical representation of the months\n",
        "for i in range(0, len(datetime_object)):\n",
        "    datetime_object[i] = datetime.datetime.strptime(datetime_object[i], \"%b\")\n",
        "    month_number[i] = datetime_object[i].month\n",
        "\n",
        "# Float to integer conversion\n",
        "month_number = pd.DataFrame(month_number).astype(int)"
      ]
    },
    {
      "cell_type": "code",
      "execution_count": null,
      "metadata": {
        "id": "JMIxXFNs3nQw"
      },
      "outputs": [],
      "source": [
        "data['arrival_date'] = data['arrival_date_year'].map(str) + '-' + month_number[0].map(str) + '-' \\\n",
        "                       + data['arrival_date_day_of_month'].map(str)"
      ]
    },
    {
      "cell_type": "code",
      "execution_count": null,
      "metadata": {
        "id": "--N00k235nkh"
      },
      "outputs": [],
      "source": [
        "data['children'] = data['children'].astype(int)"
      ]
    },
    {
      "cell_type": "code",
      "execution_count": null,
      "metadata": {
        "id": "pjWbOuf23wJ6"
      },
      "outputs": [],
      "source": [
        "# data = data.drop(['arrival_date_year', 'arrival_date_month', 'arrival_date_day_of_month',\n",
        "#                   'arrival_date_week_number'], axis=1)\n",
        "# data.head()"
      ]
    },
    {
      "cell_type": "code",
      "execution_count": null,
      "metadata": {
        "id": "8vbRTxSY31PA"
      },
      "outputs": [],
      "source": [
        "data['arrival_date'] = pd.to_datetime(data['arrival_date'])\n",
        "data['reservation_status_date'] = pd.to_datetime(data['reservation_status_date'])\n"
      ]
    },
    {
      "cell_type": "code",
      "execution_count": null,
      "metadata": {
        "id": "u8OH3NUe4BHk"
      },
      "outputs": [],
      "source": [
        "data['Total Guests'] = data['adults'] + data['children']\n",
        "data = data[data['Total Guests'] != 0]"
      ]
    },
    {
      "cell_type": "code",
      "execution_count": null,
      "metadata": {
        "id": "R2p0vPN84WjP"
      },
      "outputs": [],
      "source": [
        "data['Total_Stays'] = data['stays_in_weekend_nights'] + data['stays_in_week_nights']\n"
      ]
    },
    {
      "cell_type": "code",
      "execution_count": null,
      "metadata": {
        "id": "jGpUIOORq3ql"
      },
      "outputs": [],
      "source": [
        "fig = px.histogram(data,x='is_canceled',\n",
        "                        title='Number of Bookings: (Cancelled-1 & Confirmed-0)',\n",
        "                        color = 'is_canceled',\n",
        "                        labels={'is_canceled':'Booking Type'}\n",
        "                        )\n",
        "fig.update_layout(barmode='group',height=400,width=600,yaxis_title='Number of Bookings')\n",
        "fig.update_xaxes(type='category')\n",
        "fig.show()\n"
      ]
    },
    {
      "cell_type": "code",
      "execution_count": null,
      "metadata": {
        "id": "hXBClCUpvtAu"
      },
      "outputs": [],
      "source": [
        "from plotly.subplots import make_subplots\n",
        "df_booked = data[data['is_canceled'] ==0]\n",
        "df_cancelled = data[data['is_canceled']==1]\n",
        "hotel_book_per = df_booked.hotel[df_booked['hotel'] == 'City Hotel'].count()/data.hotel[data['hotel']=='City Hotel'].count() * 100\n",
        "resort_book_per = df_booked.hotel[df_booked['hotel'] == 'Resort Hotel'].count()/data.hotel[data['hotel']=='Resort Hotel'].count() * 100\n",
        "\n",
        "# Create subplots: use 'domain' type for Pie subplot\n",
        "fig = make_subplots(rows=1, cols=2, specs=[[{'type':'domain'}, {'type':'domain'}]])\n",
        "fig.add_trace(go.Pie(labels=[\"Booked Hotel\",\"Canceled Hotel\"], values=[hotel_book_per,100-hotel_book_per]),1, 1)\n",
        "fig.add_trace(go.Pie(labels=[\"Booked Resorts\",\"Canceled Resorts\"], values=[resort_book_per,100-resort_book_per]),1, 2)\n",
        "\n",
        "# Use `hole` to create a donut-like pie chart\n",
        "fig.update_traces(hole=.4, hoverinfo=\"label+percent\")\n",
        "\n",
        "fig.update_layout(height = 520 ,width=1000,template='plotly_dark',\n",
        "    title_text=\"Confirmed & Cancelled Bookings % by Hotels and Resorts\",\n",
        "    # Add annotations in the center of the donut pies.\n",
        "    annotations=[dict(text='Hotel', x=0.18, y=0.5, font_size=20, showarrow=False),\n",
        "                 dict(text='Resort', x=0.82, y=0.5, font_size=20, showarrow=False)])\n",
        "fig.show()"
      ]
    },
    {
      "cell_type": "code",
      "execution_count": null,
      "metadata": {
        "id": "BLc7ij_kMpio"
      },
      "outputs": [],
      "source": [
        "#from plotly.subplots import make_subplots\n",
        "#df_booked = data[data['is_canceled'] ==0]\n",
        "#df_cancelled = data[data['is_canceled']==1]\n",
        "#hotel_book_per = df_booked.hotel[df_booked['hotel'] == 'City Hotel'].count()/data.hotel[data['hotel']=='City Hotel'].count() * 100\n",
        "#resort_book_per = df_booked.hotel[df_booked['hotel'] == 'Resort Hotel'].count()/data.hotel[data['hotel']=='Resort Hotel'].count() * 100\n",
        "\n",
        "#plt.figure(figsize=(12,8))\n",
        "\n",
        "hotel_book_per                  \n",
        "                        \n"
      ]
    },
    {
      "cell_type": "code",
      "execution_count": null,
      "metadata": {
        "id": "GYFwS50h1Pyy"
      },
      "outputs": [],
      "source": [
        "fig = go.Figure()\n",
        "fig.add_trace(go.Pie(labels=df_cancelled.customer_type.unique(),values=df_cancelled.customer_type.value_counts(),name='Cancel'))\n",
        "fig.update_layout(height = 400 ,width=720,title_text='Cancelled Bookings: by Customer Types')\n",
        "fig.show()"
      ]
    },
    {
      "cell_type": "code",
      "execution_count": null,
      "metadata": {
        "id": "PwimsToR1Ts1"
      },
      "outputs": [],
      "source": [
        "fig = px.pie(df_booked,names=df_booked.customer_type.unique(),values=df_booked.customer_type.value_counts())\n",
        "fig.update_layout(height = 400 ,width=720,template='plotly_dark',title_text='Confirmed Bookings:by Customer Types')\n",
        "fig.show()"
      ]
    },
    {
      "cell_type": "code",
      "execution_count": null,
      "metadata": {
        "id": "NflFrSEq1awR"
      },
      "outputs": [],
      "source": [
        "country_freq = data['country'].value_counts().to_frame()\n",
        "country_freq.columns = ['count']\n",
        "fig = px.choropleth(country_freq, color='count',\n",
        "                    locations=country_freq.index,\n",
        "                    hover_name=country_freq.index,\n",
        "                    color_continuous_scale=px.colors.sequential.Plasma)\n",
        "fig.update_traces(marker=dict(line=dict(color='#000000', width=1)))\n",
        "fig.update_layout(title_text='Number of Records by Countries',\n",
        "                  title_x=0.5, title_font=dict(size=22))  # Location and the font size of the main title\n",
        "fig.show()"
      ]
    },
    {
      "cell_type": "code",
      "execution_count": null,
      "metadata": {
        "id": "shj9oxX_nYUS"
      },
      "outputs": [],
      "source": [
        "# How much do guests pay for a room per night?\n",
        "# Both hotels have different room types and different meal arrangements. Seasonal factors are also important. So the prices vary a lot.\n",
        "# Since no currency information is given, but Portugal is part of the European Monetary Union, I assume that all prices are in EUR.\n",
        "# After cleaning, separate Resort and City hotel\n",
        "# To know the acutal visitor numbers, only bookings that were not canceled are included. \n",
        "rh = data.loc[(data[\"hotel\"] == \"Resort Hotel\") & (data[\"is_canceled\"] == 0)]\n",
        "ch = data.loc[(data[\"hotel\"] == \"City Hotel\") & (data[\"is_canceled\"] == 0)]"
      ]
    },
    {
      "cell_type": "code",
      "execution_count": null,
      "metadata": {
        "id": "KQ2omp2bj_ul"
      },
      "outputs": [],
      "source": [
        "# Counting adults and children as paying guests only, not babies.\n",
        "rh[\"adr_pp\"] = rh[\"adr\"] / (rh[\"adults\"] + rh[\"children\"])\n",
        "ch[\"adr_pp\"] = ch[\"adr\"] / (ch[\"adults\"] + ch[\"children\"])"
      ]
    },
    {
      "cell_type": "code",
      "execution_count": null,
      "metadata": {
        "id": "7jTo8oewoatX"
      },
      "outputs": [],
      "source": [
        "print(\"\"\"From all non-cnceled bookings, across all room types and meals, the average prices are:\n",
        "Resort hotel: {:.2f} € per night and person.\n",
        "City hotel: {:.2f} € per night and person.\"\"\"\n",
        "      .format(rh[\"adr_pp\"].mean(), ch[\"adr_pp\"].mean()))"
      ]
    },
    {
      "cell_type": "code",
      "execution_count": null,
      "metadata": {
        "id": "8supyu5goe_f"
      },
      "outputs": [],
      "source": [
        "# normalize price per night (adr):\n",
        "data[\"adr_pp\"] = data[\"adr\"] / (data[\"adults\"] + data[\"children\"])\n",
        "full_data_guests = data.loc[data[\"is_canceled\"] == 0] # only actual gusts\n",
        "room_prices = full_data_guests[[\"hotel\", \"reserved_room_type\", \"adr_pp\"]].sort_values(\"reserved_room_type\")\n",
        "\n",
        "# boxplot:\n",
        "plt.figure(figsize=(12, 8))\n",
        "sn.boxplot(x=\"reserved_room_type\",\n",
        "            y=\"adr_pp\",\n",
        "            hue=\"hotel\",\n",
        "            data=room_prices, \n",
        "            hue_order=[\"City Hotel\", \"Resort Hotel\"],\n",
        "            fliersize=0)\n",
        "plt.title(\"Price of room types per night and person\", fontsize=16)\n",
        "plt.xlabel(\"Room type\", fontsize=16)\n",
        "plt.ylabel(\"Price [EUR]\", fontsize=16)\n",
        "plt.legend(loc=\"upper right\")\n",
        "plt.ylim(0, 160)\n",
        "plt.show()"
      ]
    },
    {
      "cell_type": "markdown",
      "metadata": {
        "id": "cceMp8BypUQu"
      },
      "source": [
        "This figure shows the average price per room, depending on its type and the standard deviation.\n",
        "Note that due to data anonymization rooms with the same type letter may not necessarily be the same across hotels."
      ]
    },
    {
      "cell_type": "markdown",
      "metadata": {
        "id": "Ie8RyAs7pZo7"
      },
      "source": [
        "How does the price per night vary over the year?\n",
        "To keep it simple, I'm using the average price per night and person, regardless of the room type and meal."
      ]
    },
    {
      "cell_type": "code",
      "execution_count": null,
      "metadata": {
        "id": "6ZfUC_bMzYDV"
      },
      "outputs": [],
      "source": [
        "full_data_guests"
      ]
    },
    {
      "cell_type": "code",
      "execution_count": null,
      "metadata": {
        "id": "DrNRhcBMpa6D"
      },
      "outputs": [],
      "source": [
        "# grab data:\n",
        "room_prices_mothly = full_data_guests[[\"hotel\", \"arrival_date_month\", \"adr_pp\"]].sort_values(\"arrival_date_month\")\n",
        "\n",
        "# order by month:\n",
        "ordered_months = [\"January\", \"February\", \"March\", \"April\", \"May\", \"June\", \n",
        "          \"July\", \"August\", \"September\", \"October\", \"November\", \"December\"]\n",
        "room_prices_mothly[\"arrival_date_month\"] = pd.Categorical(room_prices_mothly[\"arrival_date_month\"], categories=ordered_months, ordered=True)\n",
        "\n",
        "# barplot with standard deviation:\n",
        "plt.figure(figsize=(12, 8))\n",
        "sn.lineplot(x = \"arrival_date_month\", y=\"adr_pp\", hue=\"hotel\", data=room_prices_mothly, \n",
        "            hue_order = [\"City Hotel\", \"Resort Hotel\"], size=\"hotel\", sizes=(2.5, 2.5))\n",
        "plt.title(\"Room price per night and person over the years\", fontsize=16)\n",
        "plt.xlabel(\"Month\", fontsize=16)\n",
        "plt.xticks(rotation=360)\n",
        "plt.ylabel(\"Price [EUR]\", fontsize=16)\n",
        "plt.show()"
      ]
    },
    {
      "cell_type": "markdown",
      "metadata": {
        "id": "W7A3zvbYqTnD"
      },
      "source": [
        "This clearly shows that the prices in the Resort hotel are much higher during the summer (no surprise here).\n",
        "The price of the city hotel varies less and is most expensive during spring and autumn."
      ]
    },
    {
      "cell_type": "markdown",
      "metadata": {
        "id": "0geCznWeqYJw"
      },
      "source": [
        "Which are the most busy month?"
      ]
    },
    {
      "cell_type": "code",
      "execution_count": null,
      "metadata": {
        "id": "RXKQwTYoqZAp"
      },
      "outputs": [],
      "source": [
        "# Create a DateFrame with the relevant data:\n",
        "resort_guests_monthly = rh.groupby(\"arrival_date_month\")[\"hotel\"].count()\n",
        "city_guests_monthly = ch.groupby(\"arrival_date_month\")[\"hotel\"].count()\n",
        "\n",
        "resort_guest_data = pd.DataFrame({\"month\": list(resort_guests_monthly.index),\n",
        "                    \"hotel\": \"Resort hotel\", \n",
        "                    \"guests\": list(resort_guests_monthly.values)})\n",
        "\n",
        "city_guest_data = pd.DataFrame({\"month\": list(city_guests_monthly.index),\n",
        "                    \"hotel\": \"City hotel\", \n",
        "                    \"guests\": list(city_guests_monthly.values)})\n",
        "full_guest_data = pd.concat([resort_guest_data,city_guest_data], ignore_index=True)\n",
        "\n",
        "# order by month:\n",
        "ordered_months = [\"January\", \"February\", \"March\", \"April\", \"May\", \"June\", \n",
        "          \"July\", \"August\", \"September\", \"October\", \"November\", \"December\"]\n",
        "full_guest_data[\"month\"] = pd.Categorical(full_guest_data[\"month\"], categories=ordered_months, ordered=True)\n",
        "\n",
        "# Dataset contains July and August date from 3 years, the other month from 2 years. Normalize data:\n",
        "full_guest_data.loc[(full_guest_data[\"month\"] == \"July\") | (full_guest_data[\"month\"] == \"August\"),\n",
        "                    \"guests\"] /= 3\n",
        "full_guest_data.loc[~((full_guest_data[\"month\"] == \"July\") | (full_guest_data[\"month\"] == \"August\")),\n",
        "                    \"guests\"] /= 2\n",
        "\n",
        "#show figure:\n",
        "plt.figure(figsize=(12, 8))\n",
        "sn.lineplot(x = \"month\", y=\"guests\", hue=\"hotel\", data=full_guest_data, \n",
        "             hue_order = [\"City hotel\", \"Resort hotel\"], size=\"hotel\", sizes=(2.5, 2.5))\n",
        "plt.title(\"Average number of hotel guests per month\", fontsize=16)\n",
        "plt.xlabel(\"Month\", fontsize=16)\n",
        "plt.xticks(rotation=360)\n",
        "plt.ylabel(\"Number of guests\", fontsize=16)\n",
        "plt.show()"
      ]
    },
    {
      "cell_type": "markdown",
      "metadata": {
        "id": "LgGf-Cuiqj3v"
      },
      "source": [
        "The City hotel has more guests during spring and autumn, when the prices are also highest.\n",
        "In July and August there are less visitors, although prices are lower.\n",
        "\n",
        "Guest numbers for the Resort hotel go down slighty from June to September, which is also when the prices are highest.\n",
        "Both hotels have the fewest guests during the winter.\n",
        "\n",
        "How long do people stay at the hotels?"
      ]
    },
    {
      "cell_type": "code",
      "execution_count": null,
      "metadata": {
        "id": "bHVY6IN6qpnR"
      },
      "outputs": [],
      "source": [
        "# Create a DateFrame with the relevant data:\n",
        "rh[\"total_nights\"] = rh[\"stays_in_weekend_nights\"] + rh[\"stays_in_week_nights\"]\n",
        "ch[\"total_nights\"] = ch[\"stays_in_weekend_nights\"] + ch[\"stays_in_week_nights\"]\n",
        "\n",
        "num_nights_res = list(rh[\"total_nights\"].value_counts().index)\n",
        "num_bookings_res = list(rh[\"total_nights\"].value_counts())\n",
        "rel_bookings_res = rh[\"total_nights\"].value_counts() / sum(num_bookings_res) * 100 # convert to percent\n",
        "\n",
        "num_nights_cty = list(ch[\"total_nights\"].value_counts().index)\n",
        "num_bookings_cty = list(ch[\"total_nights\"].value_counts())\n",
        "rel_bookings_cty = ch[\"total_nights\"].value_counts() / sum(num_bookings_cty) * 100 # convert to percent\n",
        "\n",
        "res_nights = pd.DataFrame({\"hotel\": \"Resort hotel\",\n",
        "                           \"num_nights\": num_nights_res,\n",
        "                           \"rel_num_bookings\": rel_bookings_res})\n",
        "\n",
        "cty_nights = pd.DataFrame({\"hotel\": \"City hotel\",\n",
        "                           \"num_nights\": num_nights_cty,\n",
        "                           \"rel_num_bookings\": rel_bookings_cty})\n",
        "\n",
        "nights_data = pd.concat([res_nights, cty_nights], ignore_index=True)"
      ]
    },
    {
      "cell_type": "code",
      "execution_count": null,
      "metadata": {
        "id": "LqJP4tV-qzEx"
      },
      "outputs": [],
      "source": [
        "#show figure:\n",
        "plt.figure(figsize=(16, 8))\n",
        "sn.barplot(x = \"num_nights\", y = \"rel_num_bookings\", hue=\"hotel\", data=nights_data,\n",
        "            hue_order = [\"City hotel\", \"Resort hotel\"])\n",
        "plt.title(\"Length of stay\", fontsize=16)\n",
        "plt.xlabel(\"Number of nights\", fontsize=16)\n",
        "plt.ylabel(\"Guests [%]\", fontsize=16)\n",
        "plt.legend(loc=\"upper right\")\n",
        "plt.xlim(0,22)\n",
        "plt.show()"
      ]
    },
    {
      "cell_type": "markdown",
      "metadata": {
        "id": "6lCRHUwMq5C2"
      },
      "source": [
        "For the city hotel there is a clear preference for 1-4 nights.\n",
        "For the resort hotel, 1-4 nights are also often booked, but 7 nights also stand out as being very popular."
      ]
    },
    {
      "cell_type": "markdown",
      "metadata": {
        "id": "hrBQZQlUq94q"
      },
      "source": [
        "Bookings by market segment"
      ]
    },
    {
      "cell_type": "code",
      "execution_count": null,
      "metadata": {
        "id": "GHelp6h_q-YW"
      },
      "outputs": [],
      "source": [
        "# total bookings per market segment (incl. canceled)\n",
        "segments=data[\"market_segment\"].value_counts()\n",
        "\n",
        "# pie plot\n",
        "fig = px.pie(segments,\n",
        "             values=segments.values,\n",
        "             names=segments.index,\n",
        "             title=\"Bookings per market segment\",\n",
        "             template=\"seaborn\")\n",
        "fig.update_traces(rotation=-90, textinfo=\"percent+label\")\n",
        "fig.show()"
      ]
    },
    {
      "cell_type": "code",
      "execution_count": null,
      "metadata": {
        "id": "BVw_4IkorLyG"
      },
      "outputs": [],
      "source": [
        "# price per night (ADR) and person based on booking and room.\n",
        "# show figure:\n",
        "plt.figure(figsize=(12, 8))\n",
        "sn.barplot(x=\"market_segment\",\n",
        "            y=\"adr_pp\",\n",
        "            hue=\"reserved_room_type\",\n",
        "            data=data,\n",
        "            ci=\"sd\",\n",
        "            errwidth=1,\n",
        "            capsize=0.1)\n",
        "plt.title(\"ADR by market segment and room type\", fontsize=16)\n",
        "plt.xlabel(\"Market segment\", fontsize=16)\n",
        "plt.xticks(rotation=45)\n",
        "plt.ylabel(\"ADR per person [EUR]\", fontsize=16)\n",
        "plt.legend(loc=\"upper left\")\n",
        "plt.show()"
      ]
    },
    {
      "cell_type": "markdown",
      "metadata": {
        "id": "yuGERehdrRPY"
      },
      "source": [
        "On average, groups get the best prices and Airlines pay approximately twice as much.\n",
        "\n",
        "What are possible reasons for the high prices paid by Airlines?"
      ]
    },
    {
      "cell_type": "code",
      "execution_count": null,
      "metadata": {
        "id": "pN-9lAj_rRxo"
      },
      "outputs": [],
      "source": [
        "# Summarize Relevant data:\n",
        "Airline_data = data.loc[data[\"market_segment\"]== \"Aviation\"][[\"is_canceled\",\n",
        "                                                                                \"adults\",\n",
        "                                                                                \"lead_time\",\n",
        "                                                                                \"adr_pp\",]].describe()\n",
        "\n",
        "Non_Airline_data = data.loc[data[\"market_segment\"]!= \"Aviation\"][[\"is_canceled\",\"adults\",\"lead_time\",\n",
        "                 \"adr_pp\",]].describe()\n",
        "Airline_data"
      ]
    },
    {
      "cell_type": "code",
      "execution_count": null,
      "metadata": {
        "id": "NjBGTPzcsn_S"
      },
      "outputs": [],
      "source": [
        "Non_Airline_data"
      ]
    },
    {
      "cell_type": "markdown",
      "metadata": {
        "id": "CDXyjrkbO15c"
      },
      "source": [
        "Lead time for bookings from Aviation is very short: Mean 4 days vs. 104 days for other bookings.\n",
        "Airlines NEED a place for their crews to stay.\n",
        "Airline personel usually gets one room per person - more total rooms required compared to families."
      ]
    },
    {
      "cell_type": "markdown",
      "metadata": {
        "id": "uiVAd_hGPBAN"
      },
      "source": [
        "How many bookings were canceled?\n"
      ]
    },
    {
      "cell_type": "code",
      "execution_count": null,
      "metadata": {
        "id": "mTJ2LnQosvcr"
      },
      "outputs": [],
      "source": [
        "# absolute cancelations:\n",
        "total_cancelations = data[\"is_canceled\"].sum()\n",
        "rh_cancelations = data.loc[data[\"hotel\"] == \"Resort Hotel\"][\"is_canceled\"].sum()\n",
        "ch_cancelations = data.loc[data[\"hotel\"] == \"City Hotel\"][\"is_canceled\"].sum()\n",
        "\n",
        "# as percent:\n",
        "rel_cancel = total_cancelations / data.shape[0] * 100\n",
        "rh_rel_cancel = rh_cancelations / data.loc[data[\"hotel\"] == \"Resort Hotel\"].shape[0] * 100\n",
        "ch_rel_cancel = ch_cancelations / data.loc[data[\"hotel\"] == \"City Hotel\"].shape[0] * 100\n",
        "\n",
        "print(f\"Total bookings canceled: {total_cancelations:,} ({rel_cancel:.0f} %)\")\n",
        "print(f\"Resort hotel bookings canceled: {rh_cancelations:,} ({rh_rel_cancel:.0f} %)\")\n",
        "print(f\"City hotel bookings canceled: {ch_cancelations:,} ({ch_rel_cancel:.0f} %)\")"
      ]
    },
    {
      "cell_type": "markdown",
      "metadata": {
        "id": "D7mojAwltCuZ"
      },
      "source": [
        "Which month have the highest number of cancelations?"
      ]
    },
    {
      "cell_type": "code",
      "execution_count": null,
      "metadata": {
        "id": "CFRNkx5_tDK5"
      },
      "outputs": [],
      "source": [
        "# Create a DateFrame with the relevant data:\n",
        "res_book_per_month = data.loc[(data[\"hotel\"] == \"Resort Hotel\")].groupby(\"arrival_date_month\")[\"hotel\"].count()\n",
        "res_cancel_per_month = data.loc[(data[\"hotel\"] == \"Resort Hotel\")].groupby(\"arrival_date_month\")[\"is_canceled\"].sum()\n",
        "\n",
        "cty_book_per_month = data.loc[(data[\"hotel\"] == \"City Hotel\")].groupby(\"arrival_date_month\")[\"hotel\"].count()\n",
        "cty_cancel_per_month = data.loc[(data[\"hotel\"] == \"City Hotel\")].groupby(\"arrival_date_month\")[\"is_canceled\"].sum()\n",
        "\n",
        "res_cancel_data = pd.DataFrame({\"Hotel\": \"Resort Hotel\",\n",
        "                                \"Month\": list(res_book_per_month.index),\n",
        "                                \"Bookings\": list(res_book_per_month.values),\n",
        "                                \"Cancelations\": list(res_cancel_per_month.values)})\n",
        "cty_cancel_data = pd.DataFrame({\"Hotel\": \"City Hotel\",\n",
        "                                \"Month\": list(cty_book_per_month.index),\n",
        "                                \"Bookings\": list(cty_book_per_month.values),\n",
        "                                \"Cancelations\": list(cty_cancel_per_month.values)})\n",
        "\n",
        "full_cancel_data = pd.concat([res_cancel_data, cty_cancel_data], ignore_index=True)\n",
        "full_cancel_data[\"cancel_percent\"] = full_cancel_data[\"Cancelations\"] / full_cancel_data[\"Bookings\"] * 100\n",
        "\n",
        "# order by month:\n",
        "ordered_months = [\"January\", \"February\", \"March\", \"April\", \"May\", \"June\", \n",
        "          \"July\", \"August\", \"September\", \"October\", \"November\", \"December\"]\n",
        "full_cancel_data[\"Month\"] = pd.Categorical(full_cancel_data[\"Month\"], categories=ordered_months, ordered=True)\n",
        "\n",
        "# show figure:\n",
        "plt.figure(figsize=(12, 8))\n",
        "sn.barplot(x = \"Month\", y = \"cancel_percent\" , hue=\"Hotel\",\n",
        "            hue_order = [\"City Hotel\", \"Resort Hotel\"], data=full_cancel_data)\n",
        "plt.title(\"Cancelations per month\", fontsize=16)\n",
        "plt.xlabel(\"Month\", fontsize=16)\n",
        "plt.xticks(rotation=45)\n",
        "plt.ylabel(\"Cancelations [%]\", fontsize=16)\n",
        "plt.legend(loc=\"upper right\")\n",
        "plt.show()"
      ]
    },
    {
      "cell_type": "markdown",
      "metadata": {
        "id": "Oy5I2VCOPX6R"
      },
      "source": [
        "For the City hotel the relative number of cancelations is around 40 % throughout the year.\n",
        "For the Resort hotel it is highest in the summer and lowest during the winter."
      ]
    },
    {
      "cell_type": "code",
      "execution_count": null,
      "metadata": {
        "id": "uU0_7KstWSPb"
      },
      "outputs": [],
      "source": [
        "data.head()"
      ]
    },
    {
      "cell_type": "code",
      "execution_count": null,
      "metadata": {
        "id": "lcFkSwzeYePL"
      },
      "outputs": [],
      "source": [
        "top5_countries = data['country'].value_counts()[0:5]\n",
        "\n",
        "top5_countries"
      ]
    },
    {
      "cell_type": "code",
      "execution_count": null,
      "metadata": {
        "id": "gMGHBzLYbYls"
      },
      "outputs": [],
      "source": [
        "ticks=[0,1,2,3,4]\n",
        "cty=[\"Portugal\",\"United Kingdom\", \"France\",\"Spain\",\"Germany\"]\n",
        "\n",
        "plt.figure(figsize=(12,8))\n",
        "top5_countries.plot.bar()\n",
        "plt.xlabel(\"Country\")\n",
        "plt.ylabel(\"count\")\n",
        "plt.xticks(rotation=360, horizontalalignment=\"center\")\n",
        "plt.xticks(ticks,cty)\n",
        "plt.title(\"Top 5 Countries with highest number of bookings\")\n"
      ]
    },
    {
      "cell_type": "markdown",
      "metadata": {
        "id": "gg-0jILfV9Pf"
      },
      "source": [
        "Portugal,United Kingdom of Great Britain and Northern Ireland, France,Spain and Germany rank to be the top 5 countries with highest bookings. So we can say that Europe is a popular tourist place. Much expected. "
      ]
    },
    {
      "cell_type": "code",
      "execution_count": null,
      "metadata": {
        "id": "7RycEqv2quPd"
      },
      "outputs": [],
      "source": [
        "countries_cancellation = data[[\"hotel\",\"country\",\"reservation_status\"]]\n",
        "\n",
        "countries_cancellation=countries_cancellation.loc[countries_cancellation[\"reservation_status\"]=='Canceled']\n",
        "\n",
        "countries_cancellation"
      ]
    },
    {
      "cell_type": "code",
      "execution_count": null,
      "metadata": {
        "id": "MNtJi-VeZqjs"
      },
      "outputs": [],
      "source": [
        "total_counts=countries_cancellation[\"country\"].value_counts()\n",
        "\n",
        "total_counts"
      ]
    },
    {
      "cell_type": "code",
      "execution_count": null,
      "metadata": {
        "id": "sHbyJhYKAVlY"
      },
      "outputs": [],
      "source": [
        "# Made a copy of dataframe\n",
        "data_subset = data.copy()\n"
      ]
    },
    {
      "cell_type": "code",
      "execution_count": null,
      "metadata": {
        "id": "ft3ish3jDtH2"
      },
      "outputs": [],
      "source": [
        "#Created a new column called Room, value of room is 1 if the customer gets assigned with the room he/she reservered, elso it will be 0.\n",
        "data_subset['Room'] = 0\n",
        "data_subset.loc[ data_subset['reserved_room_type'] == data_subset['assigned_room_type'] , 'Room'] = 1\n",
        "\n",
        "\n",
        "## Make the new column which contain 1 if the guest has cancelled more booking in the past\n",
        "## than the number of booking he did not cancel, otherwise 0\n",
        "\n",
        "data_subset['net_cancelled'] = 0\n",
        "data_subset.loc[ data_subset['previous_cancellations'] > data_subset['previous_bookings_not_canceled'] , 'net_cancelled'] = 1\n"
      ]
    },
    {
      "cell_type": "code",
      "execution_count": null,
      "metadata": {
        "id": "1JehbN9QD6tW"
      },
      "outputs": [],
      "source": [
        "data_subset = data_subset.drop(['arrival_date_year','arrival_date_week_number','arrival_date_day_of_month',\n",
        "                            'arrival_date_month','assigned_room_type','reserved_room_type','reservation_status_date',\n",
        "                            'previous_cancellations','previous_bookings_not_canceled', 'reservation_status'],axis=1)"
      ]
    },
    {
      "cell_type": "markdown",
      "metadata": {
        "id": "IBMVUygGQuBa"
      },
      "source": [
        "LEAD TIME : Number of days that elapsed between the entering date of the booking into the PMS and the arrival date"
      ]
    },
    {
      "cell_type": "code",
      "execution_count": null,
      "metadata": {
        "id": "-YQBVpYtO2SQ"
      },
      "outputs": [],
      "source": [
        "# group data for lead_time:\n",
        "lead_cancel_data = data_subset.groupby(\"lead_time\")[\"is_canceled\"].describe()\n",
        "\n",
        "# use only lead_times with more than 10 bookings for graph:\n",
        "lead_cancel_data_10 = lead_cancel_data.loc[lead_cancel_data[\"count\"] >= 10]\n",
        "\n",
        "#show figure:\n",
        "plt.figure(figsize=(10,5))\n",
        "sn.regplot(x=lead_cancel_data_10.index, y=lead_cancel_data_10[\"mean\"].values * 100)\n",
        "plt.title(\"Effect of lead time on cancelation\", fontsize=16)\n",
        "plt.xlabel(\"Lead time\",fontsize=10)\n",
        "plt.ylabel(\"Cancelations [%]\", fontsize=10)\n",
        "# plt.xlim(0,365)\n",
        "plt.show()"
      ]
    },
    {
      "cell_type": "code",
      "execution_count": null,
      "metadata": {
        "id": "Uj0qXeoXPknc"
      },
      "outputs": [],
      "source": [
        "# Next, I visualise the lead time for every month, since, from earlier observations that number of bookings increase during the summer months a similar pattern should be observed here as well.\n",
        "labels = ['January', 'February', 'March', 'April', 'May', 'June', 'July', 'August', 'September', 'October', 'November', 'December']\n",
        "ticks = np.arange(1,13)\n",
        "plt.figure(figsize=(12,4))\n",
        "sn.lineplot(data=data, x='arrival_date_month', y='lead_time', hue='hotel')\n",
        "plt.xticks(ticks=ticks, labels=labels)\n",
        "plt.title(\"Lead Time Across Months\", fontdict={'fontsize' : 20})\n",
        "plt.show()"
      ]
    },
    {
      "cell_type": "code",
      "execution_count": null,
      "metadata": {
        "id": "NdNNX8VJHFbb"
      },
      "outputs": [],
      "source": [
        "data_subset"
      ]
    },
    {
      "cell_type": "code",
      "execution_count": null,
      "metadata": {
        "id": "AgHLmwVSEBtO"
      },
      "outputs": [],
      "source": [
        "## Plot the heatmap to see correlation with columns\n",
        "fig, ax = plt.subplots(figsize=(25,15))\n",
        "sn.heatmap(data_subset.corr(), annot=True, ax=ax);"
      ]
    },
    {
      "cell_type": "markdown",
      "metadata": {
        "id": "EkRqXNZiEgGd"
      },
      "source": [
        "We can see our features, lead_time, total special requests, Room and net_cancelled have a higher correlation with is_cancelled than most of the other columns."
      ]
    },
    {
      "cell_type": "code",
      "execution_count": null,
      "metadata": {
        "id": "aji6BGMqEiWB"
      },
      "outputs": [],
      "source": [
        "customer_cancellations = data[[\"hotel\",\"customer_type\",\"arrival_date_year\",\"reservation_status\"]]\n",
        "\n",
        "customer_cancellations=customer_cancellations.loc[customer_cancellations[\"reservation_status\"]=='Canceled']\n",
        "\n",
        "customer_cancellations"
      ]
    },
    {
      "cell_type": "code",
      "execution_count": null,
      "metadata": {
        "id": "DTWtoGCX9ioX"
      },
      "outputs": [],
      "source": [
        "\n",
        "\n",
        "g=sn.FacetGrid(customer_cancellations,col=\"arrival_date_year\", height=4, aspect=1.4)\n",
        "g=(g.map(sn.histplot,\"customer_type\", shrink=.8, color=\"maroon\").set_axis_labels(\"Type of Customer\", \"Count of Cancellations\").set_titles(\"{col_name}\"))\n",
        "g.fig.subplots_adjust(top=0.9)\n",
        "g.fig.suptitle(\"Cancellations by Customer Types\", fontsize=16)\n",
        "g.fig.set_figwidth(18)\n",
        "g.fig.set_figheight(7)\n",
        "\n"
      ]
    },
    {
      "cell_type": "code",
      "execution_count": null,
      "metadata": {
        "id": "AEbxMxMxn7wB"
      },
      "outputs": [],
      "source": [
        "week_cancellations = data[[\"hotel\",\"stays_in_week_nights\",\"arrival_date_year\",\"reservation_status\"]]\n",
        "\n",
        "week_cancellations=week_cancellations.loc[week_cancellations[\"reservation_status\"]=='Canceled']\n",
        "\n",
        "week_cancellations=week_cancellations.loc[week_cancellations[\"stays_in_week_nights\"]>0]\n",
        "\n",
        "week_cancellations"
      ]
    },
    {
      "cell_type": "code",
      "execution_count": null,
      "metadata": {
        "id": "-OQtWEnMubnO"
      },
      "outputs": [],
      "source": [
        "weekend_cancellations = data[[\"hotel\",\"stays_in_weekend_nights\",\"arrival_date_year\",\"reservation_status\"]]\n",
        "\n",
        "weekend_cancellations=weekend_cancellations.loc[weekend_cancellations[\"reservation_status\"]=='Canceled']\n",
        "\n",
        "weekend_cancellations=weekend_cancellations.loc[weekend_cancellations[\"stays_in_weekend_nights\"]>0]\n",
        "\n",
        "weekend_cancellations"
      ]
    },
    {
      "cell_type": "code",
      "execution_count": null,
      "metadata": {
        "id": "8CbadsaKohGj"
      },
      "outputs": [],
      "source": [
        "g1=sn.FacetGrid(week_cancellations,col=\"arrival_date_year\", height=4, aspect=1.4)\n",
        "g1=(g1.map_dataframe(sn.histplot,\"hotel\", shrink=0.5).set_axis_labels(\"Hotel\", \"Count\").set_titles(\"{col_name}\"))\n",
        "g1.fig.subplots_adjust(top=0.8)\n",
        "g1.fig.suptitle(\"Cancellations for week day bookings\", fontsize=16)\n",
        "g1.fig.set_figwidth(12)\n",
        "g1.fig.set_figheight(5)\n",
        "\n",
        "g2=sn.FacetGrid(weekend_cancellations,col=\"arrival_date_year\", height=4, aspect=1.4)\n",
        "g2=(g2.map_dataframe(sn.histplot,\"hotel\", shrink=0.5).set_axis_labels(\"Hotel\", \"Count\").set_titles(\"{col_name}\"))\n",
        "g2.fig.subplots_adjust(top=0.8)\n",
        "g2.fig.suptitle(\"Cancellations for weekend bookings\", fontsize=16)\n",
        "g2.fig.set_figwidth(12)\n",
        "g2.fig.set_figheight(5)"
      ]
    },
    {
      "cell_type": "code",
      "execution_count": null,
      "metadata": {
        "id": "KorEwe93zQH1"
      },
      "outputs": [],
      "source": [
        "changes_requested = data[[\"hotel\",\"booking_changes\",\"reservation_status\"]]\n",
        "\n",
        "changes_requested = changes_requested[changes_requested.reservation_status != 0]\n",
        "\n",
        "changes_requested"
      ]
    },
    {
      "cell_type": "code",
      "execution_count": null,
      "metadata": {
        "id": "1zvsEAsfzvTk"
      },
      "outputs": [],
      "source": [
        "#changes_requested[\"booking_changes\"] = changes_requested[\"booking_changes\"]\n",
        "\n",
        "plt.figure(figsize=(12, 8))\n",
        "sn.barplot(x=\"reservation_status\",y=\"booking_changes\" , \n",
        "          hue=\"hotel\",hue_order = [\"City Hotel\", \"Resort Hotel\"],data=changes_requested, ci=None)\n",
        "plt.title(\"Reservation status for number of Changes requested\", fontsize=16)\n",
        "plt.xlabel(\"Reservation status\", fontsize=16)\n",
        "plt.xticks(rotation=360)\n",
        "plt.ylabel(\"Booking changes\", fontsize=16)\n",
        "plt.legend(loc=\"upper left\")\n",
        "plt.show()"
      ]
    },
    {
      "cell_type": "code",
      "execution_count": null,
      "metadata": {
        "id": "VX2dHR0u4duO"
      },
      "outputs": [],
      "source": [
        "plt.figure(figsize=(10,5))\n",
        "sn.scatterplot(x=data.adr, y=data.Total_Stays)\n",
        "plt.title(\"Optimal length of stay to get the best ADR\", fontsize=16)\n",
        "plt.xlabel(\"ADR\",fontsize=10)\n",
        "plt.ylabel(\"Length of Stay\", fontsize=10)\n",
        "plt.xlim(0,600)\n",
        "plt.show()"
      ]
    },
    {
      "cell_type": "code",
      "execution_count": null,
      "metadata": {
        "id": "w4rCTYyQ_Jky"
      },
      "outputs": [],
      "source": [
        "sns.catplot(y='arrival_date_month',x='is_canceled',kind='bar',data=data)\n",
        "plt.show()"
      ]
    },
    {
      "cell_type": "code",
      "execution_count": null,
      "metadata": {
        "id": "ClHg6rnP9jlb"
      },
      "outputs": [],
      "source": [
        "# ARIMA Model\n",
        "dataResort = data[data['hotel'] == 'Resort Hotel']\n",
        "dataCity = data[data['hotel'] == 'City Hotel']\n",
        "NumberOfGuests_Resort = dataResort[['arrival_date', 'Total Guests']]\n",
        "NumberOfGuests_ResortWeekly = dataResort['Total Guests'].groupby(dataResort['arrival_date']).sum()\n",
        "NumberOfGuests_ResortWeekly = NumberOfGuests_ResortWeekly.resample('w').sum().to_frame()\n",
        "NumberOfGuests_ResortWeekly.head()\n",
        "NumberOfGuests_City = dataCity[['arrival_date', 'Total Guests']]\n",
        "NumberOfGuests_CityWeekly = dataCity['Total Guests'].groupby(dataCity['arrival_date']).sum()\n",
        "NumberOfGuests_CityWeekly = NumberOfGuests_CityWeekly.resample('w').sum().to_frame()\n",
        "NumberOfGuests_CityWeekly.shape\n"
      ]
    },
    {
      "cell_type": "code",
      "execution_count": null,
      "metadata": {
        "id": "Cjd7WzJgjE8P"
      },
      "outputs": [],
      "source": [
        "CityWeeklyValues = NumberOfGuests_CityWeekly.values\n",
        "result_city = adfuller(CityWeeklyValues)\n",
        "print('ADF Statistic: %f' % result_city[0])\n",
        "print('p-value: %f' % result_city[1])\n",
        "print('Critical Values:')\n",
        "for key, value in result_city[4].items():\n",
        "    print('\\t%s: %.3f' % (key, value))"
      ]
    },
    {
      "cell_type": "code",
      "execution_count": null,
      "metadata": {
        "id": "jX6ETO6P38q8"
      },
      "outputs": [],
      "source": [
        "# Rolling Mean & Rolling Standard Deviation of City Hotel\n",
        "plt.figure(figsize=(15, 8))\n",
        "rolling_mean = NumberOfGuests_CityWeekly.rolling(window=4).mean()\n",
        "rolling_std = NumberOfGuests_CityWeekly.rolling(window=4).std()\n",
        "plt.plot(NumberOfGuests_CityWeekly, color='green', label='Original')\n",
        "plt.plot(rolling_mean, color='red', label='Rolling Mean')\n",
        "plt.plot(rolling_std, color='brown', label='Rolling Std')\n",
        "plt.legend(loc='upper right')\n",
        "plt.title('Rolling Mean & Rolling Standard Deviation of the Weekly Number of Guests - City Hotel')\n",
        "plt.show()\n"
      ]
    },
    {
      "cell_type": "code",
      "execution_count": null,
      "metadata": {
        "id": "KXBUE5J76CQq"
      },
      "outputs": [],
      "source": [
        "trainCity = NumberOfGuests_CityWeekly[:90]\n",
        "testCity = NumberOfGuests_CityWeekly[90:]"
      ]
    },
    {
      "cell_type": "code",
      "execution_count": null,
      "metadata": {
        "id": "7dzmTVRg6H0U"
      },
      "outputs": [],
      "source": [
        "stepwise_fit = auto_arima(trainCity['Total Guests'], start_p=1, start_q=1,\n",
        "                          max_p=4, max_q=4, m=12,\n",
        "                          start_P=0, seasonal=True,\n",
        "                          d=1, D=1, trace=True,\n",
        "                          error_action='ignore',\n",
        "                          suppress_warnings=True,\n",
        "                          stepwise=True)\n",
        "\n",
        "stepwise_fit.summary()"
      ]
    },
    {
      "cell_type": "code",
      "execution_count": null,
      "metadata": {
        "id": "QORi_jupDLh_"
      },
      "outputs": [],
      "source": [
        "modelCity = ARIMA(trainCity['Total Guests'],\n",
        "                  order=(2, 1, 0),\n",
        "                  seasonal_order=(2, 1, 0, 12))\n",
        "\n",
        "resultCity = modelCity.fit()\n",
        "\n",
        "# Prediction of the Test data\n",
        "predictionsCityTest = resultCity.predict(90, 113, typ='levels').rename(\"Predictions\")\n",
        "predictionsCityTrain = resultCity.predict(0, 89, typ='levels').rename(\"Predictions\")\n"
      ]
    },
    {
      "cell_type": "code",
      "execution_count": null,
      "metadata": {
        "id": "8pPd6gXxExEP"
      },
      "outputs": [],
      "source": [
        "plt.figure(figsize=(15, 8))\n",
        "trainCity['Total Guests'].plot(legend=True)\n",
        "predictionsCityTest.plot(legend=True)\n",
        "plt.title('Prediction of Number of Guests for City Hotel', fontsize=16)\n",
        "plt.xlabel('Arrival Date', fontsize=12)\n",
        "plt.ylabel('Number of Guests', fontsize=12)"
      ]
    },
    {
      "cell_type": "code",
      "execution_count": null,
      "metadata": {
        "id": "Mnpmc96ZFH6f"
      },
      "outputs": [],
      "source": [
        "import math\n",
        "from sklearn.metrics import mean_absolute_percentage_error,mean_squared_error\n",
        "MeanAbsPercentageErr = mean_absolute_percentage_error(testCity, predictionsCityTest)\n",
        "RootMeanSquareErr=math.sqrt(mean_squared_error(testCity, predictionsCityTest))\n",
        "MeanAbsPercentageErrTrain = mean_absolute_percentage_error(trainCity, predictionsCityTrain)\n",
        "RootMeanSquareErrTrain=math.sqrt(mean_squared_error(trainCity, predictionsCityTrain))\n",
        "print('Test MAPE City Hotel: %f' % MeanAbsPercentageErr)\n",
        "print('Test RMSE City Hotel: %f' % RootMeanSquareErr)\n",
        "print('Train MAPE City Hotel: %f' % MeanAbsPercentageErrTrain)\n",
        "print('Train RMSE City Hotel: %f' % RootMeanSquareErrTrain)\n",
        "\n"
      ]
    },
    {
      "cell_type": "code",
      "execution_count": null,
      "metadata": {
        "id": "a1NdtieqOmRa"
      },
      "outputs": [],
      "source": [
        "ResortWeeklyValues = NumberOfGuests_ResortWeekly.values\n",
        "result_resort = adfuller(ResortWeeklyValues)\n",
        "print('ADF Statistic: %f' % result_resort[0])\n",
        "print('p-value: %f' % result_resort[1])\n",
        "print('Critical Values:')\n",
        "for key, value in result_resort[4].items():\n",
        "    print('\\t%s: %.3f' % (key, value))"
      ]
    },
    {
      "cell_type": "code",
      "execution_count": null,
      "metadata": {
        "id": "VB_JjDUXOv2a"
      },
      "outputs": [],
      "source": [
        "plt.figure(figsize=(15, 8))\n",
        "rolling_mean = NumberOfGuests_ResortWeekly.rolling(window=4).mean()\n",
        "rolling_std = NumberOfGuests_ResortWeekly.rolling(window=4).std()\n",
        "plt.plot(NumberOfGuests_ResortWeekly, color='green', label='Original')\n",
        "plt.plot(rolling_mean, color='red', label='Rolling Mean')\n",
        "plt.plot(rolling_std, color='black', label='Rolling Std')\n",
        "plt.legend(loc='upper right')\n",
        "plt.title('Rolling Mean & Rolling Standard Deviation of the Weekly Number of Guests - Resort Hotel')\n",
        "plt.show()"
      ]
    },
    {
      "cell_type": "code",
      "execution_count": null,
      "metadata": {
        "id": "sPpOBF2iO5Te"
      },
      "outputs": [],
      "source": [
        "trainResort = NumberOfGuests_ResortWeekly[:90]\n",
        "testResort = NumberOfGuests_ResortWeekly[90:]"
      ]
    },
    {
      "cell_type": "code",
      "execution_count": null,
      "metadata": {
        "id": "GARaHXz4PA1u"
      },
      "outputs": [],
      "source": [
        "stepwise_fit = auto_arima(trainResort['Total Guests'], start_p=1, start_q=1,\n",
        "                          max_p=3, max_q=3, m=12,\n",
        "                          start_P=0, seasonal=True,\n",
        "                          d=None, D=1, trace=True,\n",
        "                          error_action='ignore',\n",
        "                          suppress_warnings=True,\n",
        "                          stepwise=True)\n",
        "\n",
        "stepwise_fit.summary()"
      ]
    },
    {
      "cell_type": "code",
      "execution_count": null,
      "metadata": {
        "id": "fySd3_1QPPDI"
      },
      "outputs": [],
      "source": [
        "modelResort = ARIMA(trainResort['Total Guests'],\n",
        "                    order=(2, 0, 0),\n",
        "                    seasonal_order=(2, 1, 0, 12))\n",
        "\n",
        "resultResort = modelResort.fit()\n",
        "\n",
        "# Prediction of the Test data\n",
        "predictionsResortTest = resultResort.predict(90, 113, typ='levels').rename(\"Predictions\")\n",
        "predictionsResortTrain = resultResort.predict(0, 89, typ='levels').rename(\"Predictions\")"
      ]
    },
    {
      "cell_type": "code",
      "execution_count": null,
      "metadata": {
        "id": "cCkW794oPWuQ"
      },
      "outputs": [],
      "source": [
        "plt.figure(figsize=(15, 8))\n",
        "trainResort['Total Guests'].plot(legend=True)\n",
        "predictionsResortTest.plot(legend=True)\n",
        "plt.title('Prediction of Number of Guests for Resort Hotel', fontsize=16)\n",
        "plt.xlabel('Arrival Date', fontsize=12)\n",
        "plt.ylabel('Number of Guests', fontsize=12)"
      ]
    },
    {
      "cell_type": "code",
      "execution_count": null,
      "metadata": {
        "id": "tSwnB9lHPaw_"
      },
      "outputs": [],
      "source": [
        "MeanAbsPercentageErrResort_test = mean_absolute_percentage_error(testResort, predictionsResortTest)\n",
        "MeanSquaredErr=math.sqrt(mean_squared_error(testResort, predictionsResortTest))\n",
        "MeanAbsPercentageErrResort_train = mean_absolute_percentage_error(trainResort, predictionsResortTrain)\n",
        "MeanSquaredErrTrain=math.sqrt(mean_squared_error(trainResort, predictionsResortTrain))\n",
        "print('Test MAPE Resort Hotel: %f' % MeanAbsPercentageErrResort_test)\n",
        "print('Test RMSE Resort Hotel: %f' % MeanSquaredErr)\n",
        "print('Train MAPE Resort Hotel: %f' % MeanAbsPercentageErrResort_train)\n",
        "print('Train RMSE Resort Hotel: %f' % MeanSquaredErrTrain)"
      ]
    },
    {
      "cell_type": "code",
      "execution_count": null,
      "metadata": {
        "id": "hxMAXh-XBtvn"
      },
      "outputs": [],
      "source": [
        "copy = data.copy()"
      ]
    },
    {
      "cell_type": "code",
      "execution_count": null,
      "metadata": {
        "id": "ub4hoGCaB7IG"
      },
      "outputs": [],
      "source": [
        "copy.fillna(0,inplace=True)"
      ]
    },
    {
      "cell_type": "code",
      "execution_count": null,
      "metadata": {
        "id": "kOmpqUvDB8Q3"
      },
      "outputs": [],
      "source": [
        "copy['arrival_date'] = copy['arrival_date_year'].map(str) + '-' + month_number[0].map(str) + '-' \\\n",
        "                       + copy['arrival_date_day_of_month'].map(str)"
      ]
    },
    {
      "cell_type": "code",
      "execution_count": null,
      "metadata": {
        "id": "xIUsFBERB962"
      },
      "outputs": [],
      "source": [
        "copy['children'] = copy['children'].astype(int)"
      ]
    },
    {
      "cell_type": "code",
      "execution_count": null,
      "metadata": {
        "id": "7p2PYB8PB_tT"
      },
      "outputs": [],
      "source": [
        "copy['arrival_date'] = pd.to_datetime(copy['arrival_date'])\n",
        "copy['reservation_status_date'] = pd.to_datetime(copy['reservation_status_date'])"
      ]
    },
    {
      "cell_type": "code",
      "execution_count": null,
      "metadata": {
        "id": "mfGHBfhQCBlB"
      },
      "outputs": [],
      "source": [
        "copy['Total Guests'] = copy['adults'] + copy['children']\n",
        "copy = copy[copy['Total Guests'] != 0]"
      ]
    },
    {
      "cell_type": "code",
      "execution_count": null,
      "metadata": {
        "id": "VGKTtNY8CDO5"
      },
      "outputs": [],
      "source": [
        "copy['Total_Stays'] = copy['stays_in_weekend_nights'] + copy['stays_in_week_nights']"
      ]
    },
    {
      "cell_type": "code",
      "execution_count": null,
      "metadata": {
        "id": "ld8FMtcVBClf"
      },
      "outputs": [],
      "source": [
        "df = copy.copy()"
      ]
    },
    {
      "cell_type": "code",
      "execution_count": null,
      "metadata": {
        "id": "gRdOmXYDBHIG"
      },
      "outputs": [],
      "source": [
        "label = ['days_in_waiting_list', 'arrival_date_year', 'arrival_date_year', 'assigned_room_type', 'booking_changes',\n",
        "               'reservation_status', 'country', 'days_in_waiting_list']\n",
        "df.drop(labels=label,axis=1,inplace=True)"
      ]
    },
    {
      "cell_type": "code",
      "execution_count": null,
      "metadata": {
        "id": "USfujiQOBJHC"
      },
      "outputs": [],
      "source": [
        "cat_label=['hotel',\n",
        " 'meal',\n",
        " 'market_segment',\n",
        " 'distribution_channel',\n",
        " 'reserved_room_type',\n",
        " 'deposit_type',\n",
        " 'customer_type',\n",
        " 'reservation_status_date']"
      ]
    },
    {
      "cell_type": "code",
      "execution_count": null,
      "metadata": {
        "id": "ymT-ZQhwBL3J"
      },
      "outputs": [],
      "source": [
        "cat_df = df[cat_label]\n",
        "cat_df.head()"
      ]
    },
    {
      "cell_type": "code",
      "execution_count": null,
      "metadata": {
        "id": "fI5K2Y1SCv7L"
      },
      "outputs": [],
      "source": [
        "cat_df['reservation_status_date'] = pd.to_datetime(cat_df['reservation_status_date'])\n",
        "\n",
        "cat_df['year'] = cat_df['reservation_status_date'].dt.year\n",
        "cat_df['month'] = cat_df['reservation_status_date'].dt.month\n",
        "cat_df['day'] = cat_df['reservation_status_date'].dt.day"
      ]
    },
    {
      "cell_type": "code",
      "execution_count": null,
      "metadata": {
        "id": "dmHc4lRfCz0o"
      },
      "outputs": [],
      "source": [
        "cat_df.drop(['reservation_status_date'] , axis = 1, inplace = True)"
      ]
    },
    {
      "cell_type": "code",
      "execution_count": null,
      "metadata": {
        "id": "NLQw2KLzC0OQ"
      },
      "outputs": [],
      "source": [
        "cat_df['hotel'] = cat_df['hotel'].astype('category').cat.codes\n",
        "\n",
        "cat_df['meal'] = cat_df['meal'].astype('category').cat.codes\n",
        "\n",
        "cat_df['market_segment'] = cat_df['market_segment'].astype('category').cat.codes\n",
        "\n",
        "cat_df['distribution_channel'] = cat_df['distribution_channel'].astype('category').cat.codes\n",
        "\n",
        "cat_df['reserved_room_type'] = cat_df['reserved_room_type'].astype('category').cat.codes\n",
        "\n",
        "cat_df['deposit_type'] = cat_df['deposit_type'].astype('category').cat.codes\n",
        "\n",
        "cat_df['customer_type'] = cat_df['customer_type'].astype('category').cat.codes\n",
        "\n",
        "cat_df['year'] = cat_df['year'].astype('category').cat.codes"
      ]
    },
    {
      "cell_type": "code",
      "execution_count": null,
      "metadata": {
        "id": "AhTRjh7rPD0j"
      },
      "outputs": [],
      "source": [
        "cat_df"
      ]
    },
    {
      "cell_type": "code",
      "execution_count": null,
      "metadata": {
        "id": "D-guqUmYC2Up"
      },
      "outputs": [],
      "source": [
        "num_df = df.drop(columns = cat_label, axis = 1)\n",
        "num_df.drop('is_canceled', axis = 1, inplace = True)\n",
        "num_df"
      ]
    },
    {
      "cell_type": "code",
      "execution_count": null,
      "metadata": {
        "id": "3lDMVm1VO1GA"
      },
      "outputs": [],
      "source": [
        "num_df.drop(['Total_Stays','adr_pp','arrival_date','company','Total Guests'],axis=1,inplace=True)"
      ]
    },
    {
      "cell_type": "code",
      "execution_count": null,
      "metadata": {
        "id": "iIOegfB9PiZl"
      },
      "outputs": [],
      "source": [
        "num_df"
      ]
    },
    {
      "cell_type": "code",
      "execution_count": null,
      "metadata": {
        "id": "jGboNaXQC48S"
      },
      "outputs": [],
      "source": [
        "num_df['lead_time'] = np.log(num_df['lead_time'] + 1)\n",
        "num_df['arrival_date_week_number'] = np.log(num_df['arrival_date_week_number'] + 1)\n",
        "num_df['arrival_date_day_of_month'] = np.log(num_df['arrival_date_day_of_month'] + 1)\n",
        "num_df['agent'] = np.log(num_df['agent'] + 1)\n",
        "num_df['adr'] = np.log(num_df['adr'] + 1)\n"
      ]
    },
    {
      "cell_type": "code",
      "execution_count": null,
      "metadata": {
        "id": "Nuz1LlhcC6b3"
      },
      "outputs": [],
      "source": [
        "num_df['arrival_date_month'] = num_df['arrival_date_month'].astype('category').cat.codes"
      ]
    },
    {
      "cell_type": "code",
      "execution_count": null,
      "metadata": {
        "id": "56GMubVbC9zl"
      },
      "outputs": [],
      "source": [
        "num_df['adr'] = num_df['adr'].fillna(value = num_df['adr'].mean())"
      ]
    },
    {
      "cell_type": "code",
      "execution_count": null,
      "metadata": {
        "id": "u80jj2swC_Zs"
      },
      "outputs": [],
      "source": [
        "X = pd.concat([cat_df, num_df], axis = 1)\n",
        "y = df['is_canceled']"
      ]
    },
    {
      "cell_type": "code",
      "execution_count": null,
      "metadata": {
        "id": "jGNDjdbCCx-n"
      },
      "outputs": [],
      "source": [
        "X_train , X_test , y_train , y_test = train_test_split(X,y,test_size=0.40,random_state=0)"
      ]
    },
    {
      "cell_type": "code",
      "execution_count": null,
      "metadata": {
        "id": "mdAJfJ2rDDOh"
      },
      "outputs": [],
      "source": [
        "lr = LogisticRegression(solver='liblinear')\n",
        "lr.fit(X_train, y_train)\n",
        "\n",
        "print(\"Train------------------->\")\n",
        "y_pred_lr_train = lr.predict(X_train)\n",
        "print(accuracy_score(y_pred_lr_train,y_train))\n",
        "print(f1_score(y_train,y_pred_lr_train))\n",
        "print(recall_score(y_train,y_pred_lr_train))\n",
        "print(roc_auc_score(y_train,y_pred_lr_train))\n",
        "print(\"Test-------------------->\")\n",
        "y_pred_lr = lr.predict(X_test)\n",
        "print(accuracy_score(y_pred_lr,y_test))\n",
        "print(f1_score(y_test,y_pred_lr))\n",
        "print(recall_score(y_test,y_pred_lr))\n",
        "print(roc_auc_score(y_test,y_pred_lr))"
      ]
    },
    {
      "cell_type": "code",
      "execution_count": null,
      "metadata": {
        "id": "lyvGEtUpEpsP"
      },
      "outputs": [],
      "source": [
        "# dt = RandomForestClassifier()\n",
        "# dt.fit(X_train, y_train)\n",
        "\n",
        "# print(\"Train------------------->\")\n",
        "# y_pred_dt_train = dt.predict(X_train)\n",
        "# print(accuracy_score(y_pred_dt_train,y_train))\n",
        "# print(f1_score(y_pred_dt_train,y_train))\n",
        "# print(recall_score(y_pred_dt_train,y_train))\n",
        "# print(roc_auc_score(y_pred_dt_train,y_train))\n",
        "# print(\"Test-------------------->\")\n",
        "# y_pred_dt = dt.predict(X_test)\n",
        "# print(accuracy_score(y_test,y_pred_dt))\n",
        "# print(f1_score(y_test,y_pred_dt))\n",
        "# print(recall_score(y_test,y_pred_dt))\n",
        "# print(roc_auc_score(y_test,y_pred_dt))"
      ]
    },
    {
      "cell_type": "code",
      "execution_count": null,
      "metadata": {
        "id": "L_h6U0WvG0mQ"
      },
      "outputs": [],
      "source": [
        " xgb = XGBClassifier(objective=\"binary:logistic\", random_state=42, eval_metric=\"auc\",n_estimators=100, subsample = 0.8,colsample_bytree= 0.8,learning_rate= 0.09,g_rate= 0.09,max_depth= 5)\n",
        "xgb.fit(X_train, y_train)\n",
        "\n",
        "print(\"Train------------------->\")\n",
        "y_pred_xgb_train = xgb.predict(X_train)\n",
        "print(accuracy_score(y_train,y_pred_xgb_train))\n",
        "print(f1_score(y_train,y_pred_xgb_train))\n",
        "print(recall_score(y_train,y_pred_xgb_train))\n",
        "print(roc_auc_score(y_train,y_pred_xgb_train))\n",
        "print(\"Test-------------------->\")\n",
        "y_pred_xgb = xgb.predict(X_test)\n",
        "print(accuracy_score(y_test,y_pred_xgb))\n",
        "print(f1_score(y_test,y_pred_xgb))\n",
        "print(recall_score(y_test,y_pred_xgb))\n",
        "print(roc_auc_score(y_test,y_pred_xgb))"
      ]
    },
    {
      "cell_type": "code",
      "execution_count": null,
      "metadata": {
        "id": "Jz5JlmZaHJQe"
      },
      "outputs": [],
      "source": [
        "sc = SVC()\n",
        "sc.fit(X_train, y_train)\n",
        "\n",
        "print(\"Train------------------->\")\n",
        "y_pred_sc_train = sc.predict(X_train)\n",
        "print(accuracy_score(y_train,y_pred_sc_train))\n",
        "print(f1_score(y_train,y_pred_sc_train))\n",
        "print(recall_score(y_train,y_pred_sc_train))\n",
        "print(roc_auc_score(y_train,y_pred_sc_train))\n",
        "print(\"Test-------------------->\")\n",
        "y_pred_sc = sc.predict(X_test)\n",
        "print(accuracy_score(y_test,y_pred_sc))\n",
        "print(f1_score(y_test,y_pred_sc))\n",
        "print(recall_score(y_test,y_pred_sc))\n",
        "print(roc_auc_score(y_test,y_pred_sc))"
      ]
    },
    {
      "cell_type": "code",
      "execution_count": null,
      "metadata": {
        "id": "p1Lu027iMS6G"
      },
      "outputs": [],
      "source": [
        "lgb = LGBMClassifier(num_leaves=31,\n",
        "                        learning_rate=0.05,\n",
        "                        n_estimators=20)"
      ]
    },
    {
      "cell_type": "code",
      "execution_count": null,
      "metadata": {
        "id": "0AHFcG35M6MG"
      },
      "outputs": [],
      "source": [
        "lgb.fit(X_train, y_train)\n",
        "\n",
        "print(\"Train------------------->\")\n",
        "y_pred_lgb_train = lgb.predict(X_train)\n",
        "print(accuracy_score(y_train,y_pred_lgb_train))\n",
        "print(f1_score(y_train,y_pred_lgb_train))\n",
        "print(recall_score(y_train,y_pred_lgb_train))\n",
        "print(roc_auc_score(y_train,y_pred_lgb_train))\n",
        "print(\"Test-------------------->\")\n",
        "y_pred_lgb = lgb.predict(X_test)\n",
        "print(accuracy_score(y_test,y_pred_lgb))\n",
        "print(f1_score(y_test,y_pred_lgb))\n",
        "print(recall_score(y_test,y_pred_lgb))\n",
        "print(roc_auc_score(y_test,y_pred_lgb))"
      ]
    },
    {
      "cell_type": "markdown",
      "metadata": {
        "id": "CTVWVLKUhUMO"
      },
      "source": [
        "#Likelihood prediction of disproportinately high number of special requests."
      ]
    },
    {
      "cell_type": "code",
      "execution_count": null,
      "metadata": {
        "id": "nQP1oDdvhflc"
      },
      "outputs": [],
      "source": [
        "data.customer_type.value_counts()"
      ]
    },
    {
      "cell_type": "code",
      "execution_count": null,
      "metadata": {
        "id": "VJz8R4_ChoUd"
      },
      "outputs": [],
      "source": [
        "data.head()"
      ]
    },
    {
      "cell_type": "code",
      "execution_count": null,
      "metadata": {
        "id": "90hhSigRhrfH"
      },
      "outputs": [],
      "source": [
        "data.dtypes"
      ]
    },
    {
      "cell_type": "code",
      "execution_count": null,
      "metadata": {
        "id": "JVtLxFAohtyw"
      },
      "outputs": [],
      "source": [
        "data_cat = data.select_dtypes(\"object\")\n",
        "data_num = data.select_dtypes(\"number\")"
      ]
    },
    {
      "cell_type": "code",
      "execution_count": null,
      "metadata": {
        "id": "w6DIeTCWhw9J"
      },
      "outputs": [],
      "source": [
        "data_cat.dtypes"
      ]
    },
    {
      "cell_type": "code",
      "execution_count": null,
      "metadata": {
        "id": "MOJLIHGVh2lJ"
      },
      "outputs": [],
      "source": [
        "data_cat.head()"
      ]
    },
    {
      "cell_type": "code",
      "execution_count": null,
      "metadata": {
        "id": "HxzcSF9Bh5Wi"
      },
      "outputs": [],
      "source": [
        "cat = ['hotel',\t'arrival_date_month',\t'meal',\t'country',\t'market_segment',\t'distribution_channel',\t'reserved_room_type',\t'assigned_room_type',\t'deposit_type',\t'customer_type',\t\n",
        "       'reservation_status']"
      ]
    },
    {
      "cell_type": "code",
      "execution_count": null,
      "metadata": {
        "id": "U5707O2yh9hs"
      },
      "outputs": [],
      "source": [
        "data_cat=data_cat.astype('category')"
      ]
    },
    {
      "cell_type": "code",
      "execution_count": null,
      "metadata": {
        "id": "zg0GUcuKiATr"
      },
      "outputs": [],
      "source": [
        "data_cat.head()"
      ]
    },
    {
      "cell_type": "code",
      "execution_count": null,
      "metadata": {
        "id": "e-2-kwTniEie"
      },
      "outputs": [],
      "source": [
        "from sklearn import preprocessing\n",
        "le = preprocessing.LabelEncoder()\n",
        "data_cat = data_cat.apply(lambda col: le.fit_transform(col.astype(str)), axis=0, result_type='expand')\n",
        "#OneHotEncoder().fit_transform(data_cat)"
      ]
    },
    {
      "cell_type": "code",
      "execution_count": null,
      "metadata": {
        "id": "mHP1euPyiHwU"
      },
      "outputs": [],
      "source": [
        "\n",
        "data_new = pd.concat([data_num, data_cat], axis=1)"
      ]
    },
    {
      "cell_type": "code",
      "execution_count": null,
      "metadata": {
        "id": "ryrGqNcUiKrk"
      },
      "outputs": [],
      "source": [
        "data_new.head()"
      ]
    },
    {
      "cell_type": "markdown",
      "metadata": {
        "id": "njFupZyNisWz"
      },
      "source": [
        "## Data Splitting and Data Scaling"
      ]
    },
    {
      "cell_type": "code",
      "execution_count": null,
      "metadata": {
        "id": "RBsJlwA9iObP"
      },
      "outputs": [],
      "source": [
        "# printing feature importances\n",
        "from sklearn.model_selection import train_test_split\n",
        "X = data_new.drop(['total_of_special_requests'],axis=1)  #independent columns\n",
        "y = data_new['total_of_special_requests']   #target column i.e conversion\n",
        "\n",
        "# split the data into \n",
        "X_train, X_test, y_train, y_test = train_test_split(\n",
        "X, y, test_size=0.40, random_state=1984, stratify = y)"
      ]
    },
    {
      "cell_type": "code",
      "execution_count": null,
      "metadata": {
        "id": "s-vCScMSix3i"
      },
      "outputs": [],
      "source": [
        "y_train = y_train.values.reshape(len(y_train), 1)\n",
        "y_test = y_test.values.reshape(len(y_test), 1)"
      ]
    },
    {
      "cell_type": "code",
      "execution_count": null,
      "metadata": {
        "id": "qeGHMAnoiz8s"
      },
      "outputs": [],
      "source": [
        "from sklearn.preprocessing import MinMaxScaler\n",
        "\n",
        "# define min max scaler\n",
        "scaler = MinMaxScaler()\n",
        "# transform data\n",
        "X_train_scaled = scaler.fit_transform(X_train)\n",
        "X_test_scaled = scaler.fit_transform(X_test)\n",
        "y_train_scaled = scaler.fit_transform(y_train)\n",
        "y_test_scaled = scaler.fit_transform(y_test)\n"
      ]
    },
    {
      "cell_type": "markdown",
      "metadata": {
        "id": "WPdbQzHdi7dY"
      },
      "source": [
        "## Random Forest with Feature Scaling"
      ]
    },
    {
      "cell_type": "code",
      "execution_count": null,
      "metadata": {
        "id": "urdqGJeoi23A"
      },
      "outputs": [],
      "source": [
        "from sklearn.ensemble import RandomForestRegressor\n",
        "  \n",
        " # create regressor object\n",
        "rfr = RandomForestRegressor(n_estimators = 100, random_state = 0, max_depth=5)\n",
        "  \n",
        "# fit the regressor with x and y data\n",
        "rfr.fit(X_train_scaled, y_train_scaled)"
      ]
    },
    {
      "cell_type": "code",
      "execution_count": null,
      "metadata": {
        "id": "Fyp7gDxykx4g"
      },
      "outputs": [],
      "source": [
        "from sklearn import metrics\n",
        "y_pred = rfr.predict(X_test_scaled)\n",
        "print('Mean Absolute Error:', metrics.mean_absolute_error(y_test_scaled, y_pred))\n",
        "print('Mean Squared Error:', metrics.mean_squared_error(y_test_scaled, y_pred))\n",
        "print('Root Mean Squared Error:', np.sqrt(metrics.mean_squared_error(y_test_scaled, y_pred)))"
      ]
    },
    {
      "cell_type": "markdown",
      "metadata": {
        "id": "k4c8T2uak1aZ"
      },
      "source": [
        "## Feature Scaling"
      ]
    },
    {
      "cell_type": "code",
      "execution_count": null,
      "metadata": {
        "id": "0sWqqiGgkxyg"
      },
      "outputs": [],
      "source": [
        "feature_scores = pd.Series(rfr.feature_importances_, index=X.columns).sort_values(ascending=False)\n",
        "\n",
        "top10_feature_scores=pd.Series(feature_scores.nlargest(n=10))"
      ]
    },
    {
      "cell_type": "code",
      "execution_count": null,
      "metadata": {
        "id": "-rBsupvBk6mM"
      },
      "outputs": [],
      "source": [
        "f, ax = plt.subplots(figsize=(30, 24))\n",
        "ax = sn.barplot(x=feature_scores, y=feature_scores.index)\n",
        "ax.set_title(\"Visualize feature scores of the features\")\n",
        "ax.set_yticklabels(feature_scores.index)\n",
        "ax.set_xlabel(\"Feature importance score\")\n",
        "ax.set_ylabel(\"Features\")\n",
        "plt.show()"
      ]
    },
    {
      "cell_type": "code",
      "execution_count": null,
      "metadata": {
        "id": "y8G1ZLqIk8lE"
      },
      "outputs": [],
      "source": [
        "print(top10_feature_scores)"
      ]
    },
    {
      "cell_type": "code",
      "execution_count": null,
      "metadata": {
        "id": "p5_gSxBrlAeK"
      },
      "outputs": [],
      "source": [
        "selected_features = ['market_segment', 'reservation_status', 'is_canceled', 'lead_time', 'adr', 'Total Guests', 'arrival_date_year', \n",
        "                     'arrival_date_week_number', 'previous_bookings_not_canceled', 'customer_type']"
      ]
    },
    {
      "cell_type": "code",
      "execution_count": null,
      "metadata": {
        "id": "9rH_nSJflCmV"
      },
      "outputs": [],
      "source": [
        "X_train_select = X_train[selected_features]\n",
        "X_test_select = X_test[selected_features]"
      ]
    },
    {
      "cell_type": "markdown",
      "metadata": {
        "id": "HFwOQ-vvlJo2"
      },
      "source": [
        "## Random Forest with Scaled and Selected Features"
      ]
    },
    {
      "cell_type": "code",
      "execution_count": null,
      "metadata": {
        "id": "YBViGva2lH-U"
      },
      "outputs": [],
      "source": [
        "from sklearn.preprocessing import MinMaxScaler\n",
        "\n",
        "# define min max scaler\n",
        "scaler = MinMaxScaler()\n",
        "# transform data\n",
        "X_train_SS = scaler.fit_transform(X_train_select)\n",
        "X_test_SS = scaler.fit_transform(X_test_select)"
      ]
    },
    {
      "cell_type": "code",
      "execution_count": null,
      "metadata": {
        "id": "V_0DM-B9lPp8"
      },
      "outputs": [],
      "source": [
        "from sklearn.ensemble import RandomForestRegressor\n",
        "  \n",
        " # create regressor object\n",
        "rfr = RandomForestRegressor(n_estimators = 100, random_state = 0, max_depth=5)\n",
        "  \n",
        "# fit the regressor with x and y data\n",
        "rfr.fit(X_train_scaled, y_train_scaled)"
      ]
    },
    {
      "cell_type": "code",
      "execution_count": null,
      "metadata": {
        "id": "yYjXK3OmlRWl"
      },
      "outputs": [],
      "source": [
        "y_pred_train = rfr.predict(X_train_scaled)"
      ]
    },
    {
      "cell_type": "code",
      "execution_count": null,
      "metadata": {
        "id": "tB-gIdYhlTUO"
      },
      "outputs": [],
      "source": [
        "print('Mean Absolute Error for Train Data:', metrics.mean_absolute_error(y_train_scaled, y_pred_train))\n",
        "print('Mean Squared Error for Train Data:', metrics.mean_squared_error(y_train_scaled, y_pred_train))\n",
        "print('Root Mean Squared Error for Train Data:', np.sqrt(metrics.mean_squared_error(y_train_scaled, y_pred_train)))"
      ]
    },
    {
      "cell_type": "code",
      "execution_count": null,
      "metadata": {
        "id": "GXAkZaHmlVLb"
      },
      "outputs": [],
      "source": [
        "y_pred_test = rfr.predict(X_test_scaled)"
      ]
    },
    {
      "cell_type": "code",
      "execution_count": null,
      "metadata": {
        "id": "jGdERgrklW7V"
      },
      "outputs": [],
      "source": [
        "print('Mean Absolute Error for Test Data:', metrics.mean_absolute_error(y_test_scaled, y_pred))\n",
        "print('Mean Squared Error for Test Data:', metrics.mean_squared_error(y_test_scaled, y_pred))\n",
        "print('Root Mean Squared Error for Test Data:', np.sqrt(metrics.mean_squared_error(y_test_scaled, y_pred)))"
      ]
    },
    {
      "cell_type": "markdown",
      "metadata": {
        "id": "Q7sNmDlvlaMZ"
      },
      "source": [
        "## XGBoost Algorithm"
      ]
    },
    {
      "cell_type": "code",
      "execution_count": null,
      "metadata": {
        "id": "kUJ_wjx-lYrh"
      },
      "outputs": [],
      "source": [
        "import pandas as pd\n",
        "import numpy as np\n",
        "import xgboost as xgb\n",
        "from sklearn.model_selection import RandomizedSearchCV\n",
        "\n",
        "params = { 'max_depth': [3, 5, 6, 10, 15, 20],\n",
        "           'learning_rate': [0.01, 0.1, 0.2, 0.3],\n",
        "           'subsample': np.arange(0.5, 1.0, 0.1),\n",
        "           'colsample_bytree': np.arange(0.4, 1.0, 0.1),\n",
        "           'colsample_bylevel': np.arange(0.4, 1.0, 0.1),\n",
        "           'n_estimators': [100, 500, 1000]}\n",
        "xgbr = xgb.XGBRegressor(seed = 20)\n",
        "clf = RandomizedSearchCV(estimator=xgbr,\n",
        "                         param_distributions=params,\n",
        "                         scoring='neg_mean_squared_error',\n",
        "                         n_iter=25,\n",
        "                         verbose=1)\n",
        "clf.fit(X_train_SS, y_train_scaled)\n",
        "print(\"Best parameters:\", clf.best_params_)\n",
        "print(\"Lowest RMSE: \", (-clf.best_score_)**(1/2.0))"
      ]
    },
    {
      "cell_type": "code",
      "execution_count": null,
      "metadata": {
        "id": "iF2zim-ClfBE"
      },
      "outputs": [],
      "source": [
        "y_pred_tr = clf.predict(X_train_SS)"
      ]
    },
    {
      "cell_type": "code",
      "execution_count": null,
      "metadata": {
        "id": "JyDDulsCliAM"
      },
      "outputs": [],
      "source": [
        "from sklearn import metrics\n",
        "\n",
        "print('Mean Absolute Error for Train Data:', metrics.mean_absolute_error(y_train_scaled, y_pred_tr))\n",
        "print('Mean Squared Error for Train Data:', metrics.mean_squared_error(y_train_scaled, y_pred_tr))\n",
        "print('Root Mean Squared Error for Train Data:', np.sqrt(metrics.mean_squared_error(y_train_scaled, y_pred_tr)))"
      ]
    },
    {
      "cell_type": "code",
      "execution_count": null,
      "metadata": {
        "id": "EePcwrZnloBU"
      },
      "outputs": [],
      "source": [
        "y_pred = clf.predict(X_test_SS)"
      ]
    },
    {
      "cell_type": "code",
      "execution_count": null,
      "metadata": {
        "id": "oLikT70_lvh3"
      },
      "outputs": [],
      "source": [
        "from sklearn import metrics\n",
        "\n",
        "print('Mean Absolute Error for test data:', metrics.mean_absolute_error(y_test_scaled, y_pred))\n",
        "print('Mean Squared Error for test data:', metrics.mean_squared_error(y_test_scaled, y_pred))\n",
        "print('Root Mean Squared Error for test data:', np.sqrt(metrics.mean_squared_error(y_test_scaled, y_pred)))"
      ]
    },
    {
      "cell_type": "code",
      "execution_count": null,
      "metadata": {
        "id": "Qmwth_PJlxnX"
      },
      "outputs": [],
      "source": [
        "# printing feature importances\n",
        "from sklearn.model_selection import train_test_split\n",
        "X_g = data.drop(['total_of_special_requests'],axis=1)  #independent columns\n",
        "y_g = data['total_of_special_requests']   #target column i.e conversion\n",
        "\n",
        "# split the data into \n",
        "X_train_g, X_test_g, y_train_g, y_test_g = train_test_split(\n",
        "X_g, y_g, test_size=0.40, random_state=1984, stratify = y)"
      ]
    },
    {
      "cell_type": "code",
      "execution_count": null,
      "metadata": {
        "id": "_t7KiKlalzp4"
      },
      "outputs": [],
      "source": [
        "pred_df = pd.DataFrame(X_test_g)"
      ]
    },
    {
      "cell_type": "code",
      "execution_count": null,
      "metadata": {
        "id": "PzCaY83-l3kp"
      },
      "outputs": [],
      "source": [
        "pred_df['pred'] = y_pred"
      ]
    },
    {
      "cell_type": "code",
      "execution_count": null,
      "metadata": {
        "id": "keMbii8Xl5P5"
      },
      "outputs": [],
      "source": [
        "# eda_df = pred_df[pred_df['pred'] > 0.1]"
      ]
    },
    {
      "cell_type": "code",
      "execution_count": null,
      "metadata": {
        "id": "T9Aukwtel9Bs"
      },
      "outputs": [],
      "source": [
        "e = eda_df.groupby(['country']).sum('pred')\n",
        "e.nlargest(10, ['pred'])"
      ]
    },
    {
      "cell_type": "code",
      "execution_count": null,
      "metadata": {
        "id": "bffq9U4cl9bl"
      },
      "outputs": [],
      "source": [
        "selected_rows = ['PRT', 'GBR', 'FRA', 'ESP', 'DEU']"
      ]
    },
    {
      "cell_type": "code",
      "execution_count": null,
      "metadata": {
        "id": "smSQxGSXl_qz"
      },
      "outputs": [],
      "source": [
        "eda_df = eda_df.loc[eda_df['country'].isin(selected_rows)]"
      ]
    },
    {
      "cell_type": "code",
      "execution_count": null,
      "metadata": {
        "id": "vOnNNbbwmBgP"
      },
      "outputs": [],
      "source": [
        "eda_df = eda_df[eda_df['pred'] > 0.3]"
      ]
    },
    {
      "cell_type": "code",
      "execution_count": null,
      "metadata": {
        "id": "MO1CynUwmNHr"
      },
      "outputs": [],
      "source": [
        "eda_df.head()"
      ]
    },
    {
      "cell_type": "code",
      "execution_count": null,
      "metadata": {
        "id": "9tyY5D7XmOzr"
      },
      "outputs": [],
      "source": [
        "import datetime\n",
        "import calendar\n",
        "\n",
        "# date_rng = pd.date_range('2015-01-01', '2019-01-01', freq='1D')\n",
        "# val = np.random.randint(5,50,(1462,))\n",
        "\n",
        "# MojaBaza = pd.DataFrame({'date':pd.to_datetime(date_rng), 'value':val})\n",
        "\n",
        "# MojaBaza['Month'] = MojaBaza['date'].dt.month\n",
        "ordered_months = [\"January\", \"February\", \"March\", \"April\", \"May\", \"June\", \"July\", \"August\", \"September\", \"October\", \"November\", \"December\"]\n",
        "eda_df[\"arrival_date_month\"] = pd.Categorical(eda_df[\"arrival_date_month\"], categories=ordered_months, ordered=True)\n",
        "\n",
        "# temp = temp.reindex(index=months)\n",
        "# wykres = temp.plot(kind='bar', figsize=(8,8), title=\"Amount of the crimes in Boston during the months in years 2015-2018 \")"
      ]
    },
    {
      "cell_type": "code",
      "execution_count": null,
      "metadata": {
        "id": "aMCcUmCPmRLs"
      },
      "outputs": [],
      "source": [
        "import pandas as pd\n",
        "import matplotlib.pyplot as plt\n",
        "import seaborn as sns\n",
        "\n",
        "data_plot = pd.DataFrame({'arrival_date_month': eda_df['arrival_date_month'], 'country': eda_df['country'], 'pred': eda_df['pred']})\n",
        "\n",
        "# Turn long format into a wide format\n",
        "df_wide = data_plot.pivot_table( index='country', columns='arrival_date_month', values='pred')\n",
        "\n",
        "# plot it\n",
        "sns.heatmap(df_wide, cmap=\"YlGnBu\")\n",
        "\n",
        "sns.set(rc = {'figure.figsize':(15,10)})\n",
        "\n",
        "plt.show()"
      ]
    },
    {
      "cell_type": "code",
      "execution_count": null,
      "metadata": {
        "id": "qozNO_JymTl_"
      },
      "outputs": [],
      "source": [
        ""
      ]
    }
  ],
  "metadata": {
    "colab": {
      "collapsed_sections": [],
      "name": "IDMPProject.ipynb",
      "provenance": []
    },
    "kernelspec": {
      "display_name": "Python 3",
      "name": "python3"
    },
    "language_info": {
      "name": "python"
    }
  },
  "nbformat": 4,
  "nbformat_minor": 0
}